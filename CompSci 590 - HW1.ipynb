{
 "cells": [
  {
   "attachments": {},
   "cell_type": "markdown",
   "metadata": {},
   "source": [
    "CompSci 590-06: Elements of Deep Learning\n",
    "<br>Homework 1: Loss Function for Classification\n",
    "<br>Nick Carroll"
   ]
  },
  {
   "attachments": {},
   "cell_type": "markdown",
   "metadata": {},
   "source": [
    "1. Derivation of Cross Entropy Gradient"
   ]
  },
  {
   "attachments": {},
   "cell_type": "markdown",
   "metadata": {},
   "source": [
    "$ \\ell_{CE}(\\boldsymbol{\\theta}) = -\\textbf{y}_{n}^{T}{\\textbf{s}_n} + log \\sum_{k} exp(s_{nk})$"
   ]
  },
  {
   "attachments": {},
   "cell_type": "markdown",
   "metadata": {},
   "source": [
    "$ \\nabla_{\\textbf{s}_n} \\ell_{CE}  = \\nabla(-\\textbf{y}_{n}^{T}{\\textbf{s}_n} + log \\sum_{k} exp(s_{nk})) = -\\nabla(\\textbf{y}_{n}^{T}{\\textbf{s}_n}) + \\nabla(log \\sum_{k} exp(s_{nk})) = -\\textbf{y}_{n}^{T}{\\nabla(\\textbf{s}_n)} + \\frac{\\sum_{k} \\nabla(exp(s_{nk}))}{\\sum_{k} exp(s_{nk})} = -\\textbf{y}_{n}^{T}{\\nabla(\\textbf{s}_n)} + \\frac{\\sum_{k} (exp(s_{nk})\\nabla(s_{nk}))}{\\sum_{k} exp(s_{nk})} = -\\textbf{y}_{n}^{T}{\\nabla(\\textbf{s}_n)} + \\frac{exp(\\textbf{s}_{nk})^T\\nabla(\\textbf{s}_{n})}{\\sum_{k} exp(s_{nk})} $"
   ]
  },
  {
   "attachments": {},
   "cell_type": "markdown",
   "metadata": {},
   "source": [
    "2. Derivation of MSE Gradient"
   ]
  },
  {
   "attachments": {},
   "cell_type": "markdown",
   "metadata": {},
   "source": [
    "$ \\ell_{MSE}(\\theta) = \\frac{1}{K}\\|{y_n - s_n}\\|_2^2 $"
   ]
  },
  {
   "attachments": {},
   "cell_type": "markdown",
   "metadata": {},
   "source": [
    "$ \\nabla(\\ell_{MSE}( \\boldsymbol{\\theta})) = \\nabla(\\frac{1}{K}\\|{\\textbf{y}_n - \\textbf{s}_n}\\|_2^2) = \\frac{2}{K}\\nabla({\\textbf{y}_n - \\textbf{s}_n}) = \\frac{-2}{K}({\\textbf{y}_n - \\textbf{s}_n}) $"
   ]
  },
  {
   "attachments": {},
   "cell_type": "markdown",
   "metadata": {},
   "source": [
    "3. Derivation of \"SoftMSE\" Gradient"
   ]
  },
  {
   "attachments": {},
   "cell_type": "markdown",
   "metadata": {},
   "source": [
    "$ \\ell_{SoftMSE}(\\boldsymbol{\\theta}) = \\frac{1}{K}\\|\\textbf{y}_n - \\textbf{softmax}(\\textbf{s}_n)\\|_2^2 $"
   ]
  },
  {
   "attachments": {},
   "cell_type": "markdown",
   "metadata": {},
   "source": [
    "$ \\nabla(\\ell_{SoftMSE}(\\boldsymbol{\\theta})) = \\nabla(\\frac{1}{K}\\|\\textbf{y}_n - \\textbf{softmax}(\\textbf{s}_n)\\|_2^2) = \\frac{1}{K}\\nabla(\\|\\textbf{y}_n - \\textbf{softmax}(\\textbf{s}_n)\\|_2^2) = \\frac{2}{K}(\\textbf{y}_n - \\textbf{softmax}(\\textbf{s}_n))\\nabla(\\textbf{y}_n - \\textbf{softmax}(\\textbf{s}_n)) = \\frac{-2}{K}(\\textbf{y}_n - \\textbf{softmax}(\\textbf{s}_n))\\nabla(\\textbf{softmax}(\\textbf{s}_n)) = \\frac{-2}{K}(\\textbf{y}_n - \\textbf{softmax}(\\textbf{s}_n))\\nabla(\\frac{exp(\\textbf{s}_n)}{\\sum_{j}exp(s_j)}) = \\frac{-2}{K}(\\textbf{y}_n - \\textbf{softmax}(\\textbf{s}_n))(\\frac{\\nabla(exp(\\textbf{s}_n))}{\\sum_{j}exp(s_j)} + \\frac{-exp(\\textbf{s}_n)\\nabla(\\sum_{j}exp(s_j))}{(\\sum_{j}exp(s_j))^2}) = \\frac{-2}{K}(\\textbf{y}_n - \\textbf{softmax}(\\textbf{s}_n))(\\frac{exp(\\textbf{s}_n)*\\nabla(\\textbf{s}_n)}{\\sum_{j}exp(s_j)} + \\frac{-exp(\\textbf{s}_n)\\sum_{j}\\nabla(exp(s_j))}{(\\sum_{j}exp(s_j))^2}) = \\frac{-2}{K}(\\textbf{y}_n - \\textbf{softmax}(\\textbf{s}_n))(\\frac{exp(\\textbf{s}_n)*\\nabla(\\textbf{s}_n)}{\\sum_{j}exp(s_j)} + \\frac{-exp(\\textbf{s}_n)^T\\nabla(\\textbf{s}_n)exp(\\textbf{s}_n)}{(\\sum_{j}exp(s_j))^2}) $"
   ]
  },
  {
   "cell_type": "markdown",
   "metadata": {},
   "source": []
  },
  {
   "cell_type": "markdown",
   "metadata": {},
   "source": []
  }
 ],
 "metadata": {
  "kernelspec": {
   "display_name": "base",
   "language": "python",
   "name": "python3"
  },
  "language_info": {
   "codemirror_mode": {
    "name": "ipython",
    "version": 3
   },
   "file_extension": ".py",
   "mimetype": "text/x-python",
   "name": "python",
   "nbconvert_exporter": "python",
   "pygments_lexer": "ipython3",
   "version": "3.10.6"
  },
  "orig_nbformat": 4,
  "vscode": {
   "interpreter": {
    "hash": "72db1ef4dcd6e2344e9289c13171ece59739274764f83c0b8f73f911c07b82ff"
   }
  }
 },
 "nbformat": 4,
 "nbformat_minor": 2
}
